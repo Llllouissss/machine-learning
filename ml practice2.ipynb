{
 "cells": [
  {
   "cell_type": "code",
   "execution_count": 3,
   "id": "d677d9ed",
   "metadata": {},
   "outputs": [
    {
     "data": {
      "text/html": [
       "<div>\n",
       "<style scoped>\n",
       "    .dataframe tbody tr th:only-of-type {\n",
       "        vertical-align: middle;\n",
       "    }\n",
       "\n",
       "    .dataframe tbody tr th {\n",
       "        vertical-align: top;\n",
       "    }\n",
       "\n",
       "    .dataframe thead th {\n",
       "        text-align: right;\n",
       "    }\n",
       "</style>\n",
       "<table border=\"1\" class=\"dataframe\">\n",
       "  <thead>\n",
       "    <tr style=\"text-align: right;\">\n",
       "      <th></th>\n",
       "      <th>TV</th>\n",
       "      <th>Radio</th>\n",
       "      <th>Newspaper</th>\n",
       "      <th>Sales</th>\n",
       "    </tr>\n",
       "  </thead>\n",
       "  <tbody>\n",
       "    <tr>\n",
       "      <th>1</th>\n",
       "      <td>230.1</td>\n",
       "      <td>37.8</td>\n",
       "      <td>69.2</td>\n",
       "      <td>22.1</td>\n",
       "    </tr>\n",
       "    <tr>\n",
       "      <th>2</th>\n",
       "      <td>44.5</td>\n",
       "      <td>39.3</td>\n",
       "      <td>45.1</td>\n",
       "      <td>10.4</td>\n",
       "    </tr>\n",
       "    <tr>\n",
       "      <th>3</th>\n",
       "      <td>17.2</td>\n",
       "      <td>45.9</td>\n",
       "      <td>69.3</td>\n",
       "      <td>9.3</td>\n",
       "    </tr>\n",
       "    <tr>\n",
       "      <th>4</th>\n",
       "      <td>151.5</td>\n",
       "      <td>41.3</td>\n",
       "      <td>58.5</td>\n",
       "      <td>18.5</td>\n",
       "    </tr>\n",
       "    <tr>\n",
       "      <th>5</th>\n",
       "      <td>180.8</td>\n",
       "      <td>10.8</td>\n",
       "      <td>58.4</td>\n",
       "      <td>12.9</td>\n",
       "    </tr>\n",
       "    <tr>\n",
       "      <th>...</th>\n",
       "      <td>...</td>\n",
       "      <td>...</td>\n",
       "      <td>...</td>\n",
       "      <td>...</td>\n",
       "    </tr>\n",
       "    <tr>\n",
       "      <th>196</th>\n",
       "      <td>38.2</td>\n",
       "      <td>3.7</td>\n",
       "      <td>13.8</td>\n",
       "      <td>7.6</td>\n",
       "    </tr>\n",
       "    <tr>\n",
       "      <th>197</th>\n",
       "      <td>94.2</td>\n",
       "      <td>4.9</td>\n",
       "      <td>8.1</td>\n",
       "      <td>9.7</td>\n",
       "    </tr>\n",
       "    <tr>\n",
       "      <th>198</th>\n",
       "      <td>177.0</td>\n",
       "      <td>9.3</td>\n",
       "      <td>6.4</td>\n",
       "      <td>12.8</td>\n",
       "    </tr>\n",
       "    <tr>\n",
       "      <th>199</th>\n",
       "      <td>283.6</td>\n",
       "      <td>42.0</td>\n",
       "      <td>66.2</td>\n",
       "      <td>25.5</td>\n",
       "    </tr>\n",
       "    <tr>\n",
       "      <th>200</th>\n",
       "      <td>232.1</td>\n",
       "      <td>8.6</td>\n",
       "      <td>8.7</td>\n",
       "      <td>13.4</td>\n",
       "    </tr>\n",
       "  </tbody>\n",
       "</table>\n",
       "<p>200 rows × 4 columns</p>\n",
       "</div>"
      ],
      "text/plain": [
       "        TV  Radio  Newspaper  Sales\n",
       "1    230.1   37.8       69.2   22.1\n",
       "2     44.5   39.3       45.1   10.4\n",
       "3     17.2   45.9       69.3    9.3\n",
       "4    151.5   41.3       58.5   18.5\n",
       "5    180.8   10.8       58.4   12.9\n",
       "..     ...    ...        ...    ...\n",
       "196   38.2    3.7       13.8    7.6\n",
       "197   94.2    4.9        8.1    9.7\n",
       "198  177.0    9.3        6.4   12.8\n",
       "199  283.6   42.0       66.2   25.5\n",
       "200  232.1    8.6        8.7   13.4\n",
       "\n",
       "[200 rows x 4 columns]"
      ]
     },
     "execution_count": 3,
     "metadata": {},
     "output_type": "execute_result"
    }
   ],
   "source": [
    "import pandas as pd\n",
    "import numpy as np\n",
    "df1 = pd.read_csv(\"Advertising.csv\",index_col=0)\n",
    "df1"
   ]
  },
  {
   "cell_type": "code",
   "execution_count": 12,
   "id": "0e05e76a",
   "metadata": {},
   "outputs": [],
   "source": [
    "perchan = df1.iloc[:,:-1].values\n",
    "Sales = df1.iloc[:,-1].values\n"
   ]
  },
  {
   "cell_type": "code",
   "execution_count": 13,
   "id": "5111333f",
   "metadata": {},
   "outputs": [],
   "source": [
    "from sklearn.model_selection import train_test_split\n",
    "x_train,x_test,y_train,y_test = train_test_split(perchan,Sales,test_size=0.3,random_state=0)\n"
   ]
  },
  {
   "cell_type": "code",
   "execution_count": 14,
   "id": "af787169",
   "metadata": {},
   "outputs": [
    {
     "data": {
      "text/plain": [
       "LinearRegression()"
      ]
     },
     "execution_count": 14,
     "metadata": {},
     "output_type": "execute_result"
    }
   ],
   "source": [
    "from sklearn.linear_model import LinearRegression\n",
    "\n",
    "model = LinearRegression()\n",
    "model.fit(perchan,Sales)\n"
   ]
  },
  {
   "cell_type": "code",
   "execution_count": 23,
   "id": "96f20822",
   "metadata": {},
   "outputs": [],
   "source": [
    "Sales_pred = model.predict(x_test)"
   ]
  },
  {
   "cell_type": "code",
   "execution_count": 24,
   "id": "dc77af52",
   "metadata": {},
   "outputs": [
    {
     "data": {
      "text/plain": [
       "array([ 9.95168206,  7.39497997,  7.10850249, 24.11860723, 12.1620464 ,\n",
       "        6.55467   , 12.47834763, 15.29422368, 10.57712073, 16.3600003 ,\n",
       "       22.89067208,  9.12734958, 10.5871997 , 15.50161696, 11.44592364,\n",
       "       12.12295317, 18.86426829, 10.4276871 , 15.62347779, 17.32931197,\n",
       "       24.13310013,  9.70853872, 15.16152314, 12.39914823,  5.74215558,\n",
       "       15.0827909 , 12.38455495, 20.80301059, 13.6264571 ,  8.88787996,\n",
       "       12.82365674, 21.2926106 , 18.36720534, 21.14027498,  6.4891503 ,\n",
       "        6.05162411,  7.88410649, 13.18867186, 14.42184212,  6.12602215,\n",
       "       11.8368039 ,  9.01603163, 14.98951429, 16.40377623, 17.1861428 ,\n",
       "       13.21069202,  3.72734086, 11.85832174, 15.56609348,  8.76480262,\n",
       "       10.62693815, 19.45441306, 18.53852096, 15.33707782,  9.8272711 ,\n",
       "        8.14651887, 21.6339338 , 14.21383298, 16.37766467,  8.52771254])"
      ]
     },
     "execution_count": 24,
     "metadata": {},
     "output_type": "execute_result"
    }
   ],
   "source": [
    "Sales_pred"
   ]
  },
  {
   "cell_type": "code",
   "execution_count": 22,
   "id": "8a5a3bc1",
   "metadata": {},
   "outputs": [
    {
     "data": {
      "text/plain": [
       "array([11.3,  8.4,  8.7, 25.4, 11.7,  8.7,  7.2, 13.2,  9.2, 16.6, 24.2,\n",
       "       10.6, 10.5, 15.6, 11.8, 13.2, 17.4,  1.6, 14.7, 17. , 26.2, 10.3,\n",
       "       14.9, 12.9,  8.1, 15.2, 12.6, 22.6, 11.6,  8.5, 12.5, 23.7, 16.1,\n",
       "       21.8,  5.6,  6.7,  9.7, 12.9, 13.6,  7.2, 10.8,  9.5, 15. , 15.9,\n",
       "       17.1, 14. ,  4.8,  8.7, 15.9, 10.4, 12.4, 19.7, 17.6, 15.5, 10.1,\n",
       "        9.7, 21.4, 14.4, 16.6,  5.5])"
      ]
     },
     "execution_count": 22,
     "metadata": {},
     "output_type": "execute_result"
    }
   ],
   "source": [
    "y_test"
   ]
  },
  {
   "cell_type": "code",
   "execution_count": 25,
   "id": "e320207e",
   "metadata": {},
   "outputs": [
    {
     "data": {
      "text/plain": [
       "2.9388893694594085"
      ]
     },
     "execution_count": 25,
     "metadata": {},
     "output_type": "execute_result"
    }
   ],
   "source": [
    "model.intercept_"
   ]
  },
  {
   "cell_type": "code",
   "execution_count": 26,
   "id": "f29b0900",
   "metadata": {},
   "outputs": [
    {
     "data": {
      "text/plain": [
       "array([ 0.04576465,  0.18853002, -0.00103749])"
      ]
     },
     "execution_count": 26,
     "metadata": {},
     "output_type": "execute_result"
    }
   ],
   "source": [
    "model.coef_"
   ]
  },
  {
   "cell_type": "code",
   "execution_count": 27,
   "id": "a7262bf9",
   "metadata": {},
   "outputs": [],
   "source": [
    "import statsmodels.formula.api as sm\n",
    "#ordinary least square\n",
    "modelAllin = sm.ols(\"Sales ~ TV + Radio +Newspaper\",df1).fit()\n"
   ]
  },
  {
   "cell_type": "code",
   "execution_count": 28,
   "id": "01ae4bf1",
   "metadata": {},
   "outputs": [
    {
     "data": {
      "text/plain": [
       "Intercept    2.938889\n",
       "TV           0.045765\n",
       "Radio        0.188530\n",
       "Newspaper   -0.001037\n",
       "dtype: float64"
      ]
     },
     "execution_count": 28,
     "metadata": {},
     "output_type": "execute_result"
    }
   ],
   "source": [
    "modelAllin.params"
   ]
  },
  {
   "cell_type": "code",
   "execution_count": 29,
   "id": "939000bc",
   "metadata": {},
   "outputs": [],
   "source": [
    "y_mean = np.mean(df1.Sales)\n",
    "mean_sum_square = np.sum((y_mean - df1.Sales)**2)\n"
   ]
  },
  {
   "cell_type": "code",
   "execution_count": 30,
   "id": "c1d42b74",
   "metadata": {},
   "outputs": [],
   "source": [
    "y_pred = modelAllin.predict(df1)\n",
    "\n",
    "fit_sum_square = np.sum((y_pred - df1.Sales) **2)\n"
   ]
  },
  {
   "cell_type": "code",
   "execution_count": 32,
   "id": "caa72396",
   "metadata": {},
   "outputs": [
    {
     "data": {
      "text/plain": [
       "570.2707036590942"
      ]
     },
     "execution_count": 32,
     "metadata": {},
     "output_type": "execute_result"
    }
   ],
   "source": [
    "p = 3\n",
    "n = 200\n",
    "\n",
    "F = (mean_sum_square-fit_sum_square)/p/ ((fit_sum_square)/(n-p-1))\n",
    "F"
   ]
  },
  {
   "cell_type": "code",
   "execution_count": null,
   "id": "d8782741",
   "metadata": {},
   "outputs": [],
   "source": [
    "# ssfit 平方差越小越好 R平方 判斷係數 接近1月好 t統計 月高越好 p value (1 - 信心指數)\n",
    "# forward selecting backward selecting mix\n",
    "#feature selectind\n",
    "import statsmodels.formula.api as sm\n",
    "def get_par"
   ]
  }
 ],
 "metadata": {
  "kernelspec": {
   "display_name": "Python 3",
   "language": "python",
   "name": "python3"
  },
  "language_info": {
   "codemirror_mode": {
    "name": "ipython",
    "version": 3
   },
   "file_extension": ".py",
   "mimetype": "text/x-python",
   "name": "python",
   "nbconvert_exporter": "python",
   "pygments_lexer": "ipython3",
   "version": "3.7.11"
  }
 },
 "nbformat": 4,
 "nbformat_minor": 5
}
